{
 "cells": [
  {
   "cell_type": "code",
   "execution_count": null,
   "metadata": {},
   "outputs": [],
   "source": [
    "import os\n",
    "\n",
    "from datetime import datetime\n",
    "from pyspark.sql import SparkSession\n",
    "from pyspark.sql.functions import from_json, to_json, col, lit, struct\n",
    "from pyspark.sql.types import StructType, StructField, StringType, LongType\n",
    "\n",
    "kafka_security_options = {\n",
    "    'kafka.security.protocol': 'SASL_SSL',\n",
    "    'kafka.sasl.mechanism': 'SCRAM-SHA-512',\n",
    "    'kafka.sasl.jaas.config': 'org.apache.kafka.common.security.scram.ScramLoginModule required username=\\\"XXX\\\" password=\\\"XXX\\\";',\n",
    "}\n",
    "\n",
    "TOPIC_NAME_OUT = 'student.topic.cohortXX.senigser.out' \n",
    "TOPIC_NAME_IN = 'student.topic.cohortXX.senigser.in' \n",
    "\n",
    "# необходимые библиотеки для интеграции Spark с Kafka и PostgreSQL\n",
    "spark_jars_packages = \",\".join(\n",
    "        [\n",
    "            \"org.apache.spark:spark-sql-kafka-0-10_2.12:3.3.0\",\n",
    "            \"org.postgresql:postgresql:42.4.0\",\n",
    "        ]\n",
    "    )\n",
    "# создаём spark сессию с необходимыми библиотеками в spark_jars_packages для интеграции с Kafka и PostgreSQL\n",
    "spark = SparkSession.builder \\\n",
    "    .appName(\"RestaurantSubscribeStreamingService\") \\\n",
    "    .config(\"spark.sql.session.timeZone\", \"UTC\") \\\n",
    "    .config(\"spark.jars.packages\", spark_jars_packages) \\\n",
    "    .getOrCreate()"
   ]
  },
  {
   "cell_type": "code",
   "execution_count": null,
   "metadata": {},
   "outputs": [],
   "source": [
    "# метод для записи данных в 2 target: в PostgreSQL для фидбэков и в Kafka для триггеров\n",
    "def foreach_batch_function(df, epoch_id):\n",
    "    # сохраняем df в памяти, чтобы не создавать df заново перед отправкой в Kafka\n",
    "    df = df.withColumn(\"trigger_datetime_created\", lit(int(round(datetime.utcnow().timestamp())))) \n",
    "\n",
    "    df = df.persist()\n",
    "\n",
    "    # записываю df в PostgreSQL с полем feedback\n",
    "       \n",
    "    url = \"jdbc:postgresql://localhost:5432/XXX\"\n",
    "    properties = {\n",
    "        \"driver\": \"org.postgresql.Driver\",\n",
    "        \"user\": 'XXX',\n",
    "        \"password\": 'XXX'\n",
    "    }\n",
    "    table = \"public.subscribers_feedback\"\n",
    "\n",
    "    df.show(10, False)\n",
    "\n",
    "    df.selectExpr('restaurant_id', 'adv_campaign_id', 'adv_campaign_content', \\\n",
    "              'adv_campaign_owner', 'adv_campaign_owner_contact', \\\n",
    "              'adv_campaign_datetime_start', 'adv_campaign_datetime_end', \\\n",
    "              'datetime_created', 'client_id', 'trigger_datetime_created', \\\n",
    "              ' \\'\\' as feedback')\\\n",
    "        .write.jdbc(url=url, table=table, mode=\"append\",\n",
    "                          properties=properties)\n",
    "    \n",
    "\n",
    "    # создаём df для отправки в Kafka. Сериализация в json.\n",
    "    result = (df.withColumn('value', \\\n",
    "        to_json(\\\n",
    "        struct( col('restaurant_id'), \n",
    "                 col('adv_campaign_id'),\n",
    "                 col('adv_campaign_content'),\n",
    "                 col('adv_campaign_owner'),\n",
    "                 col('adv_campaign_owner_contact'),\n",
    "                 col('adv_campaign_datetime_start'),\n",
    "                 col('adv_campaign_datetime_end'),\n",
    "                 col('datetime_created'),\n",
    "                 col('client_id'),\n",
    "                 col('trigger_datetime_created')\n",
    "                 ))\n",
    "        )).select('value')\n",
    "    \n",
    "    # отправляем сообщения в результирующий топик Kafka без поля feedback\n",
    "    out_query = (result\n",
    "            .write\n",
    "            .format(\"kafka\")\n",
    "            .option('kafka.bootstrap.servers', 'XXX.mdb.yandexcloud.net:9091')\n",
    "            .options(**kafka_security_options)\n",
    "            .option(\"topic\", TOPIC_NAME_OUT)\n",
    "            .save())\n",
    "    \n",
    "    # очищаем память от df\n",
    "    df.unpersist()"
   ]
  },
  {
   "cell_type": "code",
   "execution_count": null,
   "metadata": {},
   "outputs": [],
   "source": [
    "restaurant_read_stream_df = spark.readStream \\\n",
    "    .format('kafka') \\\n",
    "    .option('kafka.bootstrap.servers', 'XXX.mdb.yandexcloud.net:9091') \\\n",
    "    .option('subscribe', TOPIC_NAME_IN) \\\n",
    "    .options(**kafka_security_options) \\\n",
    "    .load()"
   ]
  },
  {
   "cell_type": "code",
   "execution_count": null,
   "metadata": {},
   "outputs": [],
   "source": [
    "incomming_message_schema = StructType( \\\n",
    "         [StructField(\"restaurant_id\", StringType()), \\\n",
    "          StructField(\"adv_campaign_id\", StringType()),\\\n",
    "          StructField(\"adv_campaign_content\", StringType()),\\\n",
    "          StructField(\"adv_campaign_owner\", StringType()),\\\n",
    "          StructField(\"adv_campaign_owner_contact\", StringType()),\n",
    "          StructField(\"adv_campaign_datetime_start\", LongType()),\\\n",
    "          StructField(\"adv_campaign_datetime_end\", LongType()),\\\n",
    "          StructField(\"datetime_created\", LongType())\\\n",
    "         ])\n",
    "\n",
    "# определяем текущее время в UTC в миллисекундах\n",
    "current_timestamp_utc = int(round(datetime.utcnow().timestamp()))\n",
    "\n",
    "# десериализуем из value сообщения json и фильтруем по времени старта и окончания акции\n",
    "restaurant_read_stream_df = restaurant_read_stream_df \\\n",
    "    .withColumn('value', restaurant_read_stream_df.value.cast(StringType()))\\\n",
    "    .withColumn('values_struct', from_json(col(\"value\"), incomming_message_schema))\\\n",
    "    .select(\"values_struct.*\") "
   ]
  },
  {
   "cell_type": "code",
   "execution_count": null,
   "metadata": {},
   "outputs": [],
   "source": [
    "filtered_read_stream_df = restaurant_read_stream_df \\\n",
    "    .filter((current_timestamp_utc >= col('adv_campaign_datetime_start')) & \\\n",
    "          (current_timestamp_utc <= col('adv_campaign_datetime_end'))) "
   ]
  },
  {
   "cell_type": "code",
   "execution_count": null,
   "metadata": {},
   "outputs": [],
   "source": [
    "# вычитываем всех пользователей с подпиской на рестораны\n",
    "subscribers_restaurant_df = spark.read \\\n",
    "    .format('jdbc') \\\n",
    "    .option('url', 'jdbc:postgresql://XXX.mdb.yandexcloud.net:6432/de') \\\n",
    "    .option('driver', 'org.postgresql.Driver') \\\n",
    "    .option('dbtable', 'subscribers_restaurants') \\\n",
    "    .option('user', 'XXX') \\\n",
    "    .option('password', 'XXX') \\\n",
    "    .load()"
   ]
  },
  {
   "cell_type": "code",
   "execution_count": null,
   "metadata": {},
   "outputs": [],
   "source": [
    "# джойним данные из сообщения Kafka с пользователями подписки по restaurant_id (uuid). Добавляем время создания события.\n",
    "result_df = filtered_read_stream_df.join(subscribers_restaurant_df, \"restaurant_id\", 'inner')"
   ]
  },
  {
   "cell_type": "code",
   "execution_count": null,
   "metadata": {},
   "outputs": [],
   "source": [
    "# запускаем стриминг\n",
    "query = result_df.writeStream \\\n",
    "     .foreachBatch(foreach_batch_function) \\\n",
    "     .start() \\\n",
    "     .awaitTermination()\n"
   ]
  }
 ],
 "metadata": {
  "kernelspec": {
   "display_name": "Python 3",
   "language": "python",
   "name": "python3"
  },
  "language_info": {
   "codemirror_mode": {
    "name": "ipython",
    "version": 3
   },
   "file_extension": ".py",
   "mimetype": "text/x-python",
   "name": "python",
   "nbconvert_exporter": "python",
   "pygments_lexer": "ipython3",
   "version": "3.9.2"
  },
  "orig_nbformat": 4
 },
 "nbformat": 4,
 "nbformat_minor": 2
}
