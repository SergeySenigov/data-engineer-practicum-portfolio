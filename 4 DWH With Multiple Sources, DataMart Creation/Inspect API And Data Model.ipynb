{
 "cells": [
  {
   "attachments": {},
   "cell_type": "markdown",
   "metadata": {},
   "source": [
    "Изучим источник данных - API системы доставки заказов, его внутреннюю модель хранения данных, а также технологии которые используются для получения данных из этого источника.\n",
    "\n",
    "Пример запроса `GET /restaurants`\n",
    "```sql\n",
    "curl --location --request GET 'https://d5d04q7d963eapoepsqr.apigw.yandexcloud.net/restaurants?sort_field={{ sort_field }}&sort_direction={{ sort_direction }}&limit={{ limit }}&offset={{ offset }}' \\\n",
    "--header 'X-Nickname: {{ your_nickname }}' \\\n",
    "--header 'X-Cohort: {{ your_cohort_number }}' \\\n",
    "--header 'X-API-KEY: {{ api_key }}'\n",
    "```\n",
    "\n",
    "Так как API предоставляется через HTTP, воспользуемся для выполнения запросов к API модулем requests. "
   ]
  },
  {
   "cell_type": "code",
   "execution_count": 95,
   "metadata": {},
   "outputs": [
    {
     "name": "stdout",
     "output_type": "stream",
     "text": [
      "status_code =  200\n",
      "b'[{\"_id\":\"626a81cfefa404208fe9abae\",\"name\":\"\\xd0\\x9a\\xd0\\xbe\\xd1\\x84\\xd0\\xb5\\xd0\\xb9\\xd0\\xbd\\xd1\\x8f \\xe2\\x84\\x961\"},{\"_id\":\"a51e4e31ae4602047ec52534\",\"name\":\"\\xd0\\x9a\\xd1\\x83\\xd0\\xb1\\xd0\\xb4\\xd0\\xb0\\xd1\\x80\\xd0\\xb8\"},{\"_id\":\"ebfa4c9b8dadfc1da37ab58d\",\"name\":\"PLove\"},{\"_id\":\"ef8c42c19b7518a9aebec106\",\"name\":\"\\xd0\\x92\\xd0\\xba\\xd1\\x83\\xd1\\x81 \\xd0\\x98\\xd0\\xbd\\xd0\\xb4\\xd0\\xb8\\xd0\\xb8\"}]'\n"
     ]
    }
   ],
   "source": [
    "import requests\n",
    "import json\n",
    "\n",
    "url = 'https://d5d04q7d963eapoepsqr.apigw.yandexcloud.net/restaurants'\n",
    "restaurants_parameters = {'limit': '10',  'offset': '0'}\n",
    "request_headers = { 'X-Nickname': 'XXXX', 'X-Cohort': '08', 'X-API-KEY': 'XXXXXX' }\n",
    "rs = requests.get(url, headers = request_headers, params = restaurants_parameters)\n",
    "\n",
    "print('status_code = ', rs.status_code) \n",
    "print(rs.content) "
   ]
  },
  {
   "attachments": {},
   "cell_type": "markdown",
   "metadata": {},
   "source": [
    "Видно, что возвращается закодированный в json список объектов вида (_id, name). Преобразуем его из json и выведем построчно."
   ]
  },
  {
   "cell_type": "code",
   "execution_count": 96,
   "metadata": {},
   "outputs": [
    {
     "name": "stdout",
     "output_type": "stream",
     "text": [
      "{'_id': '626a81cfefa404208fe9abae', 'name': 'Кофейня №1'}\n",
      "{'_id': 'a51e4e31ae4602047ec52534', 'name': 'Кубдари'}\n",
      "{'_id': 'ebfa4c9b8dadfc1da37ab58d', 'name': 'PLove'}\n",
      "{'_id': 'ef8c42c19b7518a9aebec106', 'name': 'Вкус Индии'}\n"
     ]
    }
   ],
   "source": [
    "r = [print(restaurant) for restaurant in json.loads(rs.content)]  "
   ]
  },
  {
   "attachments": {},
   "cell_type": "markdown",
   "metadata": {},
   "source": [
    "Изучим результаты работы API данных о курьерах\n",
    "```sql\n",
    "curl --location --request GET 'https://d5d04q7d963eapoepsqr.apigw.yandexcloud.net/couriers?sort_field={{ sort_field }}&sort_direction={{ sort_direction }}&limit={{ limit }}&offset={{ offset }}' \\\n",
    "```\n",
    "\n",
    "Выполним запрос с помощью requests"
   ]
  },
  {
   "cell_type": "code",
   "execution_count": 97,
   "metadata": {},
   "outputs": [
    {
     "name": "stdout",
     "output_type": "stream",
     "text": [
      "status_code = 200 , type is <class 'list'> , lenght is 5\n"
     ]
    }
   ],
   "source": [
    "url = 'https://d5d04q7d963eapoepsqr.apigw.yandexcloud.net/couriers'\n",
    "\n",
    "couriers_parameters = {'limit': '5',  'offset': '0'}\n",
    "\n",
    "request_headers = { 'X-Nickname': 'XXXXX', 'X-Cohort': '08', 'X-API-KEY': 'XXXXXX'}\n",
    "rs = requests.get(url, headers = request_headers, params = couriers_parameters)\n",
    "\n",
    "print('status_code =', rs.status_code, ', type is', type(json.loads(rs.content)), ', lenght is', len(json.loads(rs.content)))"
   ]
  },
  {
   "cell_type": "code",
   "execution_count": 49,
   "metadata": {},
   "outputs": [
    {
     "name": "stdout",
     "output_type": "stream",
     "text": [
      "{'_id': '0jqno0nthckr0i9eb9b59g8', 'name': 'Эдуард Васильев'}\n",
      "{'_id': '10rnbzf0afbyfpdpfayoj6l', 'name': 'Геннадий Петров'}\n",
      "{'_id': '1bghie2wg0afcxt2i1k3ndc', 'name': 'Алексей Соколов'}\n",
      "{'_id': '1cr998m6nfewf3310xy9a6m', 'name': 'Евгений Михайлов'}\n",
      "{'_id': '1flejhply8gyubxefzwam7k', 'name': 'Елизавета Алексеева'}\n"
     ]
    }
   ],
   "source": [
    "r = [print(courier) for courier in json.loads(rs.content)]"
   ]
  },
  {
   "attachments": {},
   "cell_type": "markdown",
   "metadata": {},
   "source": [
    "Изучим результаты работы API данных о доставках\n",
    "```sql\n",
    "curl --location --request GET 'https://d5d04q7d963eapoepsqr.apigw.yandexcloud.net/deliveries?restaurant_id={{ restaurant_id }}&from={{ from }}&to={{ to }}&sort_field={{ sort_field }}&sort_direction={{ sort_direction }}&limit={{ limit }}&offset={{ limit }}' \\\n",
    "```\n",
    "\n",
    "Выполним запрос с помощью requests"
   ]
  },
  {
   "cell_type": "code",
   "execution_count": 98,
   "metadata": {},
   "outputs": [
    {
     "name": "stdout",
     "output_type": "stream",
     "text": [
      "status_code = 200 , type is <class 'list'> , lenght is 5 \n",
      "\n",
      "{'order_id': '63ad01954094be631265f255', 'order_ts': '2022-12-29 02:55:17.244000', 'delivery_id': '0lpt86by5d8tvugmttjpxa6', 'courier_id': 'pmft4p9r7dgl2ohd2guzd9x', 'address': 'Ул. Академика Королева, 11, кв. 174', 'delivery_ts': '2022-12-29 04:01:25.751000', 'rate': 5, 'sum': 183, 'tip_sum': 9}\n",
      "{'order_id': '63ad02c495354dc976b4619c', 'order_ts': '2022-12-29 03:00:20.682000', 'delivery_id': 'ry96uihjrkzo0mr0ez32got', 'courier_id': '1vkfr8hpn52tm08zywtzve1', 'address': 'Ул. Заречная, 9, кв. 76', 'delivery_ts': '2022-12-29 03:28:29.465000', 'rate': 4, 'sum': 4957, 'tip_sum': 743}\n",
      "{'order_id': '63ad03ec2fea41e65d1b5f6d', 'order_ts': '2022-12-29 03:05:16.668000', 'delivery_id': 'ies3v29qdzr8zn82cpo8krs', 'courier_id': 'm7xvsh36yz3hxspxcsyr7gy', 'address': 'Ул. Советская, 4, кв. 341', 'delivery_ts': '2022-12-29 04:16:18.637000', 'rate': 5, 'sum': 2536, 'tip_sum': 253}\n",
      "{'order_id': '63ad0519e347a3b90ff41dd8', 'order_ts': '2022-12-29 03:10:17.521000', 'delivery_id': '6l4wz4fv0xyajbblu7ipsqb', 'courier_id': 't4fpxod2e6ctk2cgltpywnt', 'address': 'Ул. Металлургов, 14, кв. 375', 'delivery_ts': '2022-12-29 04:40:24.081000', 'rate': 5, 'sum': 1013, 'tip_sum': 50}\n",
      "{'order_id': '63ad064511c6412eb447b8fa', 'order_ts': '2022-12-29 03:15:17.493000', 'delivery_id': 'lmqoa8pni5ba0grhvigck7q', 'courier_id': 'ubkl6e13p8sm1a9kaotnnzv', 'address': 'Ул. Новая, 13, кв. 184', 'delivery_ts': '2022-12-29 04:53:25.381000', 'rate': 5, 'sum': 2840, 'tip_sum': 284}\n"
     ]
    }
   ],
   "source": [
    "url = 'https://d5d04q7d963eapoepsqr.apigw.yandexcloud.net/deliveries'\n",
    "deliveries_parameters = {'limit': '5',  'offset': '0'}\n",
    "request_headers = { 'X-Nickname': 'XXXXX', 'X-Cohort': '08', 'X-API-KEY': 'XXXXXX' }\n",
    "rs = requests.get(url, headers = request_headers, params = deliveries_parameters)\n",
    "\n",
    "print('status_code =', rs.status_code, ', type is', type(json.loads(rs.content)), ', lenght is', len(json.loads(rs.content)), '\\n')\n",
    "r = [print(delivery) for delivery in json.loads(rs.content)]"
   ]
  },
  {
   "attachments": {},
   "cell_type": "markdown",
   "metadata": {},
   "source": [
    "Видно, что получаем список заказов со всеми данными заказа. DWH можно заполнять вызывая в цикле постранично запрос, пока не получим пустую страницу."
   ]
  }
 ],
 "metadata": {
  "kernelspec": {
   "display_name": "Python 3",
   "language": "python",
   "name": "python3"
  },
  "language_info": {
   "codemirror_mode": {
    "name": "ipython",
    "version": 3
   },
   "file_extension": ".py",
   "mimetype": "text/x-python",
   "name": "python",
   "nbconvert_exporter": "python",
   "pygments_lexer": "ipython3",
   "version": "3.10.4 (v3.10.4:9d38120e33, Mar 23 2022, 17:29:05) [Clang 13.0.0 (clang-1300.0.29.30)]"
  },
  "orig_nbformat": 4,
  "vscode": {
   "interpreter": {
    "hash": "aee8b7b246df8f9039afb4144a1f6fd8d2ca17a180786b69acc140d282b71a49"
   }
  }
 },
 "nbformat": 4,
 "nbformat_minor": 2
}
